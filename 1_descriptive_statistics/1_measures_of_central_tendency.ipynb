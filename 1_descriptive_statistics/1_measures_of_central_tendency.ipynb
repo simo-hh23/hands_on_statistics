{
 "cells": [
  {
   "cell_type": "markdown",
   "metadata": {},
   "source": [
    "Chapter 1, paragraph 1\n",
    "\n",
    "Measures of central tendency"
   ]
  },
  {
   "cell_type": "markdown",
   "metadata": {},
   "source": [
    "1.1 - the arithmetic mean\n",
    "\n",
    "\n",
    "When we talk about statistics, the most natural starting point for the journey is the arithmetic mean. As every simple concept, it is very powerfull and it is something that - trascending the statistics - we, as social animals, have to deal with daily. Don't we always have in mind an \"average something\" against which all the rest is compared? But aside from this digression, from a statistical perspective the mean is the most natural and straight forward way to describe a complex phenomenom. Imagine you have to answer the question: in the foru largest European countries, are women or men the more frequent investor in adult education? Let's see how to answer this question using data from the OECD."
   ]
  },
  {
   "cell_type": "code",
   "execution_count": 12,
   "metadata": {},
   "outputs": [
    {
     "data": {
      "text/html": [
       "<div>\n",
       "<style scoped>\n",
       "    .dataframe tbody tr th:only-of-type {\n",
       "        vertical-align: middle;\n",
       "    }\n",
       "\n",
       "    .dataframe tbody tr th {\n",
       "        vertical-align: top;\n",
       "    }\n",
       "\n",
       "    .dataframe thead th {\n",
       "        text-align: right;\n",
       "    }\n",
       "</style>\n",
       "<table border=\"1\" class=\"dataframe\">\n",
       "  <thead>\n",
       "    <tr style=\"text-align: right;\">\n",
       "      <th></th>\n",
       "      <th>Gender</th>\n",
       "      <th>Value</th>\n",
       "    </tr>\n",
       "  </thead>\n",
       "  <tbody>\n",
       "    <tr>\n",
       "      <th>0</th>\n",
       "      <td>Men</td>\n",
       "      <td>48.75</td>\n",
       "    </tr>\n",
       "    <tr>\n",
       "      <th>1</th>\n",
       "      <td>Total</td>\n",
       "      <td>49.25</td>\n",
       "    </tr>\n",
       "    <tr>\n",
       "      <th>2</th>\n",
       "      <td>Women</td>\n",
       "      <td>49.75</td>\n",
       "    </tr>\n",
       "  </tbody>\n",
       "</table>\n",
       "</div>"
      ],
      "text/plain": [
       "  Gender  Value\n",
       "0    Men  48.75\n",
       "1  Total  49.25\n",
       "2  Women  49.75"
      ]
     },
     "execution_count": 12,
     "metadata": {},
     "output_type": "execute_result"
    }
   ],
   "source": [
    "import sys\n",
    "import os\n",
    "import getpass\n",
    "\n",
    "if getpass.getuser() == 'simon':\n",
    "    functionFolder = 'C:/Users/simon/Desktop/github_projects/hands_on_statistics/zz_help_functions/'\n",
    "else:\n",
    "    functionFolder = '/Users/tugbasabanoglu/Desktop/hands_on_statistics/'\n",
    "\n",
    "sys.path.insert(1, functionFolder)\n",
    "from database_connection_functions import get_from_oecd\n",
    "\n",
    "\n",
    "# Let's load the dataset and narrow it down to the values we are interested in\n",
    "\n",
    "adult_education_df = get_from_oecd('EAG_AL_26092022')\n",
    "adult_education_df = adult_education_df[(adult_education_df['COUNTRY'].isin(['DEU', 'FRA', 'ITA', 'GBR'])) & \n",
    "                                        (adult_education_df['AGE'] == 'T') & \n",
    "                                        (adult_education_df['MEASURE'] == 'VALUE') & \n",
    "                                        (adult_education_df['INDICATOR'] == 'AES_AL_PART_FNFAET') &\n",
    "                                        (adult_education_df['ISC11A'] == 'T')].reset_index(drop = True)\n",
    "\n",
    "adult_education_mean_df = adult_education_df.groupby(['Gender']).agg({'Value': 'mean'}).reset_index(drop = False)\n",
    "adult_education_mean_df\n"
   ]
  },
  {
   "cell_type": "markdown",
   "metadata": {},
   "source": [
    "Women do seem to be, on average in the 4 largest European countries, make use of adult education more than men. 49.75% of women against 48.75% of men. \n",
    "Is this a piece of knowledge we can really make use for? Usually, the best way to make use of the arithmetic mean is to show it in contrast to the single datapoints that generated them. And here is where data visualization becomes a powerfull tool and ally. Let's continue the example from above to see how."
   ]
  }
 ],
 "metadata": {
  "kernelspec": {
   "display_name": "base",
   "language": "python",
   "name": "python3"
  },
  "language_info": {
   "codemirror_mode": {
    "name": "ipython",
    "version": 3
   },
   "file_extension": ".py",
   "mimetype": "text/x-python",
   "name": "python",
   "nbconvert_exporter": "python",
   "pygments_lexer": "ipython3",
   "version": "3.11.4"
  }
 },
 "nbformat": 4,
 "nbformat_minor": 2
}
